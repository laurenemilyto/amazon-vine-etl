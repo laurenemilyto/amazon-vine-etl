{
  "nbformat": 4,
  "nbformat_minor": 0,
  "metadata": {
    "colab": {
      "name": "analyze_amazon_vine.ipynb",
      "provenance": [],
      "collapsed_sections": []
    },
    "kernelspec": {
      "display_name": "Python 3",
      "language": "python",
      "name": "python3"
    },
    "language_info": {
      "codemirror_mode": {
        "name": "ipython",
        "version": 3
      },
      "file_extension": ".py",
      "mimetype": "text/x-python",
      "name": "python",
      "nbconvert_exporter": "python",
      "pygments_lexer": "ipython3",
      "version": "3.8.5"
    }
  },
  "cells": [
    {
      "cell_type": "code",
      "metadata": {
        "id": "-nwzxq5q4Ole",
        "colab": {
          "base_uri": "https://localhost:8080/"
        },
        "outputId": "01da9c84-32cd-4de0-fa88-57f8b8488ccf"
      },
      "source": [
        "import os\n",
        "# Find the latest version of spark 3.0  from http://www-us.apache.org/dist/spark/ and enter as the spark version\n",
        "# For example:\n",
        "# spark_version = 'spark-3.0.1'\n",
        "spark_version = 'spark-3.0.1'\n",
        "jdk_version = '11'\n",
        "hadoop_version = 'hadoop2.7'\n",
        "\n",
        "# Set Environment Variables\n",
        "os.environ['SPARK_VERSION'] = spark_version\n",
        "os.environ['JDK_VERSION'] = jdk_version\n",
        "os.environ['HADOOP_VERSION'] = hadoop_version\n",
        "os.environ['JAVA_HOME'] = f'/usr/lib/jvm/java-{jdk_version}-openjdk-amd64'\n",
        "os.environ['SPARK_HOME'] = f'/content/{spark_version}-bin-{hadoop_version}'\n",
        "\n",
        "# Update modules and install Spark and Java\n",
        "!apt-get update\n",
        "!apt-get install openjdk-$JDK_VERSION-jdk-headless -qq > /dev/null\n",
        "!wget -q https://archive.apache.org/dist/spark/$SPARK_VERSION/$SPARK_VERSION-bin-$HADOOP_VERSION.tgz\n",
        "!tar xf $SPARK_VERSION-bin-$HADOOP_VERSION.tgz\n",
        "!pip install -q findspark\n",
        "\n",
        "# Start a SparkSession\n",
        "import findspark\n",
        "findspark.init()"
      ],
      "execution_count": 2,
      "outputs": [
        {
          "output_type": "stream",
          "name": "stdout",
          "text": [
            "Get:1 https://cloud.r-project.org/bin/linux/ubuntu bionic-cran40/ InRelease [3,626 B]\n",
            "Ign:2 https://developer.download.nvidia.com/compute/cuda/repos/ubuntu1804/x86_64  InRelease\n",
            "Get:3 https://cloud.r-project.org/bin/linux/ubuntu bionic-cran40/ Packages [73.0 kB]\n",
            "Ign:4 https://developer.download.nvidia.com/compute/machine-learning/repos/ubuntu1804/x86_64  InRelease\n",
            "Get:5 https://developer.download.nvidia.com/compute/cuda/repos/ubuntu1804/x86_64  Release [696 B]\n",
            "Hit:6 https://developer.download.nvidia.com/compute/machine-learning/repos/ubuntu1804/x86_64  Release\n",
            "Hit:7 http://archive.ubuntu.com/ubuntu bionic InRelease\n",
            "Get:8 http://security.ubuntu.com/ubuntu bionic-security InRelease [88.7 kB]\n",
            "Get:9 http://ppa.launchpad.net/c2d4u.team/c2d4u4.0+/ubuntu bionic InRelease [15.9 kB]\n",
            "Get:10 https://developer.download.nvidia.com/compute/cuda/repos/ubuntu1804/x86_64  Release.gpg [836 B]\n",
            "Get:11 http://archive.ubuntu.com/ubuntu bionic-updates InRelease [88.7 kB]\n",
            "Get:13 https://developer.download.nvidia.com/compute/cuda/repos/ubuntu1804/x86_64  Packages [808 kB]\n",
            "Hit:14 http://ppa.launchpad.net/cran/libgit2/ubuntu bionic InRelease\n",
            "Get:15 http://archive.ubuntu.com/ubuntu bionic-backports InRelease [74.6 kB]\n",
            "Hit:16 http://ppa.launchpad.net/deadsnakes/ppa/ubuntu bionic InRelease\n",
            "Get:17 http://security.ubuntu.com/ubuntu bionic-security/multiverse amd64 Packages [26.8 kB]\n",
            "Get:18 http://security.ubuntu.com/ubuntu bionic-security/main amd64 Packages [2,430 kB]\n",
            "Hit:19 http://ppa.launchpad.net/graphics-drivers/ppa/ubuntu bionic InRelease\n",
            "Get:20 http://archive.ubuntu.com/ubuntu bionic-updates/universe amd64 Packages [2,219 kB]\n",
            "Get:21 http://ppa.launchpad.net/c2d4u.team/c2d4u4.0+/ubuntu bionic/main Sources [1,812 kB]\n",
            "Get:22 http://security.ubuntu.com/ubuntu bionic-security/universe amd64 Packages [1,439 kB]\n",
            "Get:23 http://security.ubuntu.com/ubuntu bionic-security/restricted amd64 Packages [666 kB]\n",
            "Get:24 http://archive.ubuntu.com/ubuntu bionic-updates/multiverse amd64 Packages [34.4 kB]\n",
            "Get:25 http://archive.ubuntu.com/ubuntu bionic-updates/main amd64 Packages [2,867 kB]\n",
            "Get:26 http://archive.ubuntu.com/ubuntu bionic-updates/restricted amd64 Packages [699 kB]\n",
            "Get:27 http://ppa.launchpad.net/c2d4u.team/c2d4u4.0+/ubuntu bionic/main amd64 Packages [928 kB]\n",
            "Fetched 14.3 MB in 6s (2,355 kB/s)\n",
            "Reading package lists... Done\n"
          ]
        }
      ]
    },
    {
      "cell_type": "code",
      "metadata": {
        "id": "hr12wJ8J4Sy9"
      },
      "source": [
        "from pyspark.sql import SparkSession\n",
        "spark = SparkSession.builder.appName(\"Level-Two-Starter-Code\").getOrCreate()"
      ],
      "execution_count": 3,
      "outputs": []
    },
    {
      "cell_type": "markdown",
      "metadata": {
        "id": "1sDjdLAA4lHw"
      },
      "source": [
        "# Load Amazon Data into Spark DataFrame"
      ]
    },
    {
      "cell_type": "code",
      "metadata": {
        "id": "dCzwVUj74iFl",
        "colab": {
          "base_uri": "https://localhost:8080/"
        },
        "outputId": "c4694efe-ee2d-4a60-98e8-330dd21c5a27"
      },
      "source": [
        "from pyspark import SparkFiles\n",
        "raw_data_file = \"amazon_reviews_us_Video_Games_v1_00.tsv.gz\"\n",
        "url = \"https://s3.amazonaws.com/amazon-reviews-pds/tsv/\" + raw_data_file\n",
        "spark.sparkContext.addFile(url)\n",
        "\n",
        "# Read and show the data\n",
        "video_reviews = spark.read.csv(SparkFiles.get(\"amazon_reviews_us_Video_Games_v1_00.tsv.gz\"), sep=\"\\t\", header=True)\n",
        "video_reviews.show()"
      ],
      "execution_count": 5,
      "outputs": [
        {
          "output_type": "stream",
          "name": "stdout",
          "text": [
            "+-----------+-----------+--------------+----------+--------------+--------------------+----------------+-----------+-------------+-----------+----+-----------------+--------------------+--------------------+-----------+\n",
            "|marketplace|customer_id|     review_id|product_id|product_parent|       product_title|product_category|star_rating|helpful_votes|total_votes|vine|verified_purchase|     review_headline|         review_body|review_date|\n",
            "+-----------+-----------+--------------+----------+--------------+--------------------+----------------+-----------+-------------+-----------+----+-----------------+--------------------+--------------------+-----------+\n",
            "|         US|   12039526| RTIS3L2M1F5SM|B001CXYMFS|     737716809|Thrustmaster T-Fl...|     Video Games|          5|            0|          0|   N|                Y|an amazing joysti...|Used this for Eli...| 2015-08-31|\n",
            "|         US|    9636577| R1ZV7R40OLHKD|B00M920ND6|     569686175|Tonsee 6 buttons ...|     Video Games|          5|            0|          0|   N|                Y|Definitely a sile...|Loved it,  I didn...| 2015-08-31|\n",
            "|         US|    2331478|R3BH071QLH8QMC|B0029CSOD2|      98937668|Hidden Mysteries:...|     Video Games|          1|            0|          1|   N|                Y|            One Star|poor quality work...| 2015-08-31|\n",
            "|         US|   52495923|R127K9NTSXA2YH|B00GOOSV98|      23143350|GelTabz Performan...|     Video Games|          3|            0|          0|   N|                Y|good, but could b...|nice, but tend to...| 2015-08-31|\n",
            "|         US|   14533949|R32ZWUXDJPW27Q|B00Y074JOM|     821342511|Zero Suit Samus a...|     Video Games|          4|            0|          0|   N|                Y|   Great but flawed.|Great amiibo, gre...| 2015-08-31|\n",
            "|         US|    2377552|R3AQQ4YUKJWBA6|B002UBI6W6|     328764615|Psyclone Recharge...|     Video Games|          1|            0|          0|   N|                Y|            One Star|The remote consta...| 2015-08-31|\n",
            "|         US|   17521011|R2F0POU5K6F73F|B008XHCLFO|      24234603|Protection for yo...|     Video Games|          5|            0|          0|   N|                Y|              A Must|I have a 2012-201...| 2015-08-31|\n",
            "|         US|   19676307|R3VNR804HYSMR6|B00BRA9R6A|     682267517|   Nerf 3DS XL Armor|     Video Games|          5|            0|          0|   N|                Y|          Five Stars|Perfect, kids lov...| 2015-08-31|\n",
            "|         US|     224068| R3GZTM72WA2QH|B009EPWJLA|     435241890|One Piece: Pirate...|     Video Games|          5|            0|          0|   N|                Y|          Five Stars|            Excelent| 2015-08-31|\n",
            "|         US|   48467989| RNQOY62705W1K|B0000AV7GB|     256572651|Playstation 2 Dan...|     Video Games|          4|            0|          0|   N|                Y|          Four Stars|Slippery but expe...| 2015-08-31|\n",
            "|         US|     106569|R1VTIA3JTYBY02|B00008KTNN|     384411423|Metal Arms: Glitc...|     Video Games|          5|            0|          0|   N|                N|          Five Stars|Love the game. Se...| 2015-08-31|\n",
            "|         US|   48269642|R29DOU8791QZL8|B000A3IA0Y|     472622859|72 Pin Connector ...|     Video Games|          1|            0|          0|   N|                Y| Game will get stuck|Does not fit prop...| 2015-08-31|\n",
            "|         US|   52738710|R15DUT1VIJ9RJZ|B0053BQN34|     577628462|uDraw Gametablet ...|     Video Games|          2|            0|          0|   N|                Y|We have tried it ...|This was way too ...| 2015-08-31|\n",
            "|         US|   10556786|R3IMF2MQ3OU9ZM|B002I0HIMI|     988218515|NBA 2K12(Covers M...|     Video Games|          4|            0|          0|   N|                Y|          Four Stars|Works great good ...| 2015-08-31|\n",
            "|         US|    2963837|R23H79DHOZTYAU|B0081EH12M|     770100932|New Trigger Grips...|     Video Games|          1|            1|          1|   N|                Y|Now i have to buy...|It did not fit th...| 2015-08-31|\n",
            "|         US|   23092109| RIV24EQAIXA4O|B005FMLZQQ|      24647669|Xbox 360 Media Re...|     Video Games|          5|            0|          0|   N|                Y|          Five Stars|perfect lightweig...| 2015-08-31|\n",
            "|         US|   23091728|R3UCNGYDVN24YB|B002BSA388|      33706205|Super Mario Galaxy 2|     Video Games|          5|            0|          0|   N|                Y|          Five Stars|               great| 2015-08-31|\n",
            "|         US|   10712640| RUL4H4XTTN2DY|B00BUSLSAC|     829667834|Nintendo 3DS XL -...|     Video Games|          5|            0|          0|   N|                Y|          Five Stars|Works beautifully...| 2015-08-31|\n",
            "|         US|   17455376|R20JF7Z4DHTNX5|B00KWF38AW|     110680188|Captain Toad:  Tr...|     Video Games|          5|            0|          0|   N|                Y|          Five Stars|Kids loved the ga...| 2015-08-31|\n",
            "|         US|   14754850|R2T1AJ5MFI2260|B00BRQJYA8|     616463426|Lego Batman 2: DC...|     Video Games|          4|            0|          0|   N|                Y|          Four Stars|           Goodngame| 2015-08-31|\n",
            "+-----------+-----------+--------------+----------+--------------+--------------------+----------------+-----------+-------------+-----------+----+-----------------+--------------------+--------------------+-----------+\n",
            "only showing top 20 rows\n",
            "\n"
          ]
        }
      ]
    },
    {
      "cell_type": "markdown",
      "metadata": {
        "id": "wYvHpYMO4os_"
      },
      "source": [
        "# Filter by Votes"
      ]
    },
    {
      "cell_type": "code",
      "metadata": {
        "id": "L0E9xDOuJmbP",
        "colab": {
          "base_uri": "https://localhost:8080/"
        },
        "outputId": "1ba21161-3921-40de-8d1d-f31c39242d74"
      },
      "source": [
        "# Filter for greater than 20 total votes\n",
        "total_votes = video_reviews.filter(video_reviews['total_votes']> 20)\n",
        "total_votes.show()"
      ],
      "execution_count": 9,
      "outputs": [
        {
          "output_type": "stream",
          "name": "stdout",
          "text": [
            "+-----------+-----------+--------------+----------+--------------+--------------------+----------------+-----------+-------------+-----------+----+-----------------+--------------------+--------------------+-----------+\n",
            "|marketplace|customer_id|     review_id|product_id|product_parent|       product_title|product_category|star_rating|helpful_votes|total_votes|vine|verified_purchase|     review_headline|         review_body|review_date|\n",
            "+-----------+-----------+--------------+----------+--------------+--------------------+----------------+-----------+-------------+-----------+----+-----------------+--------------------+--------------------+-----------+\n",
            "|         US|    7142190| R4PKAZRQJJX14|B00QZLVCU0|     210935604|Valve - DOTA 2 St...|     Video Games|          1|           21|         34|   N|                N|What store doesn'...|Who pays 4 dollar...| 2015-08-31|\n",
            "|         US|    1085641|R2CI0Y288CC7E2|B00RHI62GY|     626589765|ONE PIECE Pirate ...|     Video Games|          1|           21|         35|   N|                Y|i request change ...|Yesterday i recei...| 2015-08-31|\n",
            "|         US|   34170274|R127WEQY2FM1T3|B00W435BU0|     487294121|       Madden NFL 16|     Video Games|          1|          147|        175|   N|                Y|Hot Mess. Don't Buy.|This is an absolu...| 2015-08-31|\n",
            "|         US|   35781932|R3EZ0EPYLDA34S|B00PV515DU|     986164434|Sony Borderlands ...|     Video Games|          1|           14|         31|   N|                Y|The reason that I...|I ordered this it...| 2015-08-31|\n",
            "|         US|   37932477|R2FJ94555FZH32|B00WJ0Z194|     116945357|Infinity 3.0 Star...|     Video Games|          2|           55|         60|   N|                N|Some improvements...|While Infinity 3....| 2015-08-31|\n",
            "|         US|   45782027|R1U3AR67RE273L|B00W435C0Y|     406569386|       Madden NFL 16|     Video Games|          1|           51|         65|   N|                Y|CAN'T PLAY - NO E...|I've owned a vers...| 2015-08-31|\n",
            "|         US|   26953574|R3PZOXA5X1U8KW|B00WJ0Z10S|     418299376|Infinity 3.0 Star...|     Video Games|          4|           31|         36|   N|                N|A Really Great Game!|I have never play...| 2015-08-31|\n",
            "|         US|   38235948| R6KTC1OPIOIIG|B0118GJKIW|     120888661|Xbox One 500GB Co...|     Video Games|          2|           19|         34|   N|                Y| What an experience!|When I open a pro...| 2015-08-30|\n",
            "|         US|   52553659|R36O341WWXXKNP|B00ZSJU97C|     838780144|Disney Infinity 3...|     Video Games|          5|           28|         31|   N|                N|Upgrade to Disney...|We have been play...| 2015-08-30|\n",
            "|         US|    3880600|R3GSK9MM8DNOYI|B00ZLGO5A4|     330485200|Console PS4 500 G...|     Video Games|          1|            4|         32|   N|                N|                  No|It's not even 1 T...| 2015-08-30|\n",
            "|         US|   38235948|R10LZVBLQHBVJ0|B00KAI3KW2|     289195641|Microsoft Xbox On...|     Video Games|          2|          151|        198|   N|                N| What an experience!|When I open a pro...| 2015-08-30|\n",
            "|         US|   18680918|R1VR5GLGY1GE7N|B00VE2VASY|     908454240|SmaAcc Cooling Fa...|     Video Games|          1|           49|         51|   N|                Y|If you wanted a c...|Very weak fan. Sy...| 2015-08-30|\n",
            "|         US|   51331712|R3GUUC6NT4QMCL|B0118GJKIW|     120888661|Xbox One 500GB Co...|     Video Games|          1|            5|         36|   N|                N|Gears of War Ulti...|Need an additiona...| 2015-08-30|\n",
            "|         US|   14007139|R1ZSD020RT18I5|B00MV7KVP4|      92208606|Until Dawn  - Pla...|     Video Games|          1|            7|        139|   N|                N|I am done with Sony.|What is this crap...| 2015-08-30|\n",
            "|         US|   51680383|R113X48B575ASY|B00KVR4HEC|     558590596|          Bloodborne|     Video Games|          1|           15|         45|   N|                N|This game has a g...|This game has a g...| 2015-08-30|\n",
            "|         US|     597335| RJLYLGRYH7SFQ|B00W6O8IZW|     708681587|PlayStation 4 MET...|     Video Games|          1|           34|        116|   N|                N|      F*** this S***|Who in the hell w...| 2015-08-30|\n",
            "|         US|    3407493|R2OWDAR0EDEPTF|B00W435BU0|     487294121|       Madden NFL 16|     Video Games|          1|           23|         28|   N|                N|Same game differe...|Sick of each mono...| 2015-08-29|\n",
            "|         US|    4679582|R3CICXKAHN6NUD|B00WTI3JPE|      82806212|The Witcher 3: Wi...|     Video Games|          1|            0|         23|   N|                Y|It would be great...|It would be great...| 2015-08-29|\n",
            "|         US|   14073759|R29BOS5HMAY1LO|B00W435BL4|     281495895|Madden NFL 16 - P...|     Video Games|          5|           88|        110|   N|                N|The wife will nev...|This game is grea...| 2015-08-29|\n",
            "|         US|   52542000| R8WD0136CETA7|B00W435BU0|     487294121|       Madden NFL 16|     Video Games|          2|           99|        119|   N|                N|Same Madden as la...|The same thing pl...| 2015-08-29|\n",
            "+-----------+-----------+--------------+----------+--------------+--------------------+----------------+-----------+-------------+-----------+----+-----------------+--------------------+--------------------+-----------+\n",
            "only showing top 20 rows\n",
            "\n"
          ]
        }
      ]
    },
    {
      "cell_type": "code",
      "metadata": {
        "id": "6QEk2nbcJBbz",
        "colab": {
          "base_uri": "https://localhost:8080/"
        },
        "outputId": "9dd9a9b0-8fb5-43c7-a81f-8803c594d70a"
      },
      "source": [
        "# Filter for greater than 50% helpful vote percentage\n",
        "most_helpful_votes = video_reviews.filter(video_reviews['helpful_votes']> 0.5)\n",
        "most_helpful_votes.show()"
      ],
      "execution_count": 8,
      "outputs": [
        {
          "output_type": "stream",
          "name": "stdout",
          "text": [
            "+-----------+-----------+--------------+----------+--------------+--------------------+----------------+-----------+-------------+-----------+----+-----------------+--------------------+--------------------+-----------+\n",
            "|marketplace|customer_id|     review_id|product_id|product_parent|       product_title|product_category|star_rating|helpful_votes|total_votes|vine|verified_purchase|     review_headline|         review_body|review_date|\n",
            "+-----------+-----------+--------------+----------+--------------+--------------------+----------------+-----------+-------------+-----------+----+-----------------+--------------------+--------------------+-----------+\n",
            "|         US|    2963837|R23H79DHOZTYAU|B0081EH12M|     770100932|New Trigger Grips...|     Video Games|          1|            1|          1|   N|                Y|Now i have to buy...|It did not fit th...| 2015-08-31|\n",
            "|         US|    1581810|R3AACSKX1EAHUY|B001REZLY8|     816407837|Fallout 3: Game o...|     Video Games|          5|            1|          1|   N|                Y|    Wow just Amazing|This game is lege...| 2015-08-31|\n",
            "|         US|   25401563|R1FJWU0IJ4KUT4|B001BNFQKO|     108570469| Grand Theft Auto IV|     Video Games|          1|            5|          5|   N|                Y|            DRM FAIL|Normally I wouldn...| 2015-08-31|\n",
            "|         US|    3014276|R3D8ELWH0671OJ|B00RAB0J0S|     103963355|            Gameband|     Video Games|          5|            3|          7|   N|                Y|          Five Stars|                  Hi| 2015-08-31|\n",
            "|         US|   39746001|R23HC6NMA3HBPS|B00MV7KVP4|      92208606|Until Dawn  - Pla...|     Video Games|          5|            1|          1|   N|                N|If you like Heavy...|Downloaded this f...| 2015-08-31|\n",
            "|         US|   24000539| R8HD4KOH8L0A6|B00Q03M888|     987197932|Dark Souls II: Sc...|     Video Games|          5|            1|          2|   N|                Y|I played the 360 ...|I played the 360 ...| 2015-08-31|\n",
            "|         US|    8399590|R3DCTXDTB028VH|B00NGXUBTI|     280854144|Americas Collecti...|     Video Games|          5|            3|          4|   N|                Y| A Solid Collection!|I have ALWAYS ado...| 2015-08-31|\n",
            "|         US|    7142190| R4PKAZRQJJX14|B00QZLVCU0|     210935604|Valve - DOTA 2 St...|     Video Games|          1|           21|         34|   N|                N|What store doesn'...|Who pays 4 dollar...| 2015-08-31|\n",
            "|         US|   39665969|R2NCZ6CIHAWH28|B00VE2VASY|     908454240|SmaAcc Cooling Fa...|     Video Games|          5|            1|          1|   N|                Y|PS4 Standing Tall...|If you have a PS4...| 2015-08-31|\n",
            "|         US|    1085641|R2CI0Y288CC7E2|B00RHI62GY|     626589765|ONE PIECE Pirate ...|     Video Games|          1|           21|         35|   N|                Y|i request change ...|Yesterday i recei...| 2015-08-31|\n",
            "|         US|   10595946| RXJ4RXVZNQQMK|B00149MEVY|     648090358|Silent Hill: Home...|     Video Games|          1|            1|          1|   N|                Y|Terrible game com...|Terrible game com...| 2015-08-31|\n",
            "|         US|   22526509|R3I2LMGRW1CNE5|B00ZMBLKPG|     966892383|Gears of War: Ult...|     Video Games|          5|            2|          2|   N|                N|This game is so a...|This game is so a...| 2015-08-31|\n",
            "|         US|   37495299| RFPA1A1M29NFW|B004NRN5EO|     433035046|          Dark Souls|     Video Games|          2|            2|          2|   N|                Y|not exactly as ad...|Don't buy if you'...| 2015-08-31|\n",
            "|         US|   46483205|R2OD8EZROTQ6EB|B00ZSJU97C|     838780144|Disney Infinity 3...|     Video Games|          5|           16|         17|   N|                Y|Obi Wan would be ...|This review is ba...| 2015-08-31|\n",
            "|         US|     127010|R1OJ3A44G2PPBF|B00TS0UKE4|     273523740|Lucina amiibo - J...|     Video Games|          5|            1|          1|   N|                Y|          Five Stars|I have fallen in ...| 2015-08-31|\n",
            "|         US|   44337275| RGBKYX5BT3CUQ|B0147YVCG0|     522482202|Xbox One Headset ...|     Video Games|          5|            2|          2|   N|                Y|Fast Shipping and...|Bought this cable...| 2015-08-31|\n",
            "|         US|   46105530|R20R33LR5C3K9I|B001CM62UM|     740862470|Star Ocean: First...|     Video Games|          5|            1|          1|   N|                N|At First I though...|I was a little wo...| 2015-08-31|\n",
            "|         US|     339984|R1SUO3U2JC9N2Z|B00KBZHTBC|     870215622|            WWE 2K15|     Video Games|          1|            1|          1|   N|                Y|WWE has gone down...|This is the worst...| 2015-08-31|\n",
            "|         US|    1530467|R1KXISXI37XT53|B0139S0TN2|     840301533|[Price Reduced] F...|     Video Games|          5|            2|          2|   N|                N|        Great mouse.|I got it for the ...| 2015-08-31|\n",
            "|         US|   37861475|R1XBH031J4CAO3|B00ZWWTN5O|     296637939|PS4 Media Remote ...|     Video Games|          1|           13|         15|   N|                N|       Disappointing|You get what you ...| 2015-08-31|\n",
            "+-----------+-----------+--------------+----------+--------------+--------------------+----------------+-----------+-------------+-----------+----+-----------------+--------------------+--------------------+-----------+\n",
            "only showing top 20 rows\n",
            "\n"
          ]
        }
      ]
    },
    {
      "cell_type": "markdown",
      "metadata": {
        "id": "AlnzTsVZ4tvT"
      },
      "source": [
        "# Describe Stats"
      ]
    },
    {
      "cell_type": "code",
      "metadata": {
        "id": "R4roMyzgJh29",
        "colab": {
          "base_uri": "https://localhost:8080/"
        },
        "outputId": "f42e4c8b-e128-4f77-a541-dcc27525a70f"
      },
      "source": [
        "# Paid reviews\n",
        "paid_reviews = video_reviews.filter(video_reviews['vine']== 'Y')\n",
        "paid_reviews.show()"
      ],
      "execution_count": 11,
      "outputs": [
        {
          "output_type": "stream",
          "name": "stdout",
          "text": [
            "+-----------+-----------+--------------+----------+--------------+--------------------+----------------+-----------+-------------+-----------+----+-----------------+--------------------+--------------------+-----------+\n",
            "|marketplace|customer_id|     review_id|product_id|product_parent|       product_title|product_category|star_rating|helpful_votes|total_votes|vine|verified_purchase|     review_headline|         review_body|review_date|\n",
            "+-----------+-----------+--------------+----------+--------------+--------------------+----------------+-----------+-------------+-----------+----+-----------------+--------------------+--------------------+-----------+\n",
            "|         US|   20981134| RX3CK2RLSAF7T|B00XO041RQ|     238654494|PDP AG7 True Wire...|     Video Games|          5|            0|          0|   Y|                N|Best Xbox One hea...|I've been testing...| 2015-08-31|\n",
            "|         US|   28779404|R253CC14DRG5WQ|B00XO041RQ|     238654494|PDP AG7 True Wire...|     Video Games|          3|            0|          0|   Y|                N|Not a Turtle Beac...|OK so I might be ...| 2015-08-31|\n",
            "|         US|   43791073| R1ZXWP3JKVXMU|B00XO041RQ|     238654494|PDP AG7 True Wire...|     Video Games|          5|            0|          0|   Y|                N|Great Xbox One he...|Great headset.  V...| 2015-08-30|\n",
            "|         US|   22429746|R1I01YYQ35M80G|B00YY3OK0A|     884170609|SteelSeries Siber...|     Video Games|          5|            0|          0|   Y|                N|In it for the Lon...|Besides being com...| 2015-08-30|\n",
            "|         US|   12113794| RWKQQPG100CQ4|B00YY3ODTS|     975991516|SteelSeries Siber...|     Video Games|          4|            2|          4|   Y|                N|iwouldcomeupwitha...|How ironic is it ...| 2015-08-28|\n",
            "|         US|   39916916|R1R0J8S1VGALUY|B00UOYQ5DS|     166248134|Razer Serval - Mo...|     Video Games|          1|            1|          2|   Y|                N|           I give up|After two weeks t...| 2015-08-27|\n",
            "|         US|   42689422|R28165EG0N9CSN|B00YXO5UXG|     555176890|Turtle Beach - Ea...|     Video Games|          4|            1|          2|   Y|                N|This is  a good v...|This Recon 530X i...| 2015-08-27|\n",
            "|         US|   20981134|R1CH0ZXGIMVEFC|B00YXO5UXG|     555176890|Turtle Beach - Ea...|     Video Games|          5|            1|          2|   Y|                N|Old-school chat f...|I don't always ch...| 2015-08-26|\n",
            "|         US|   50398454|R2BFEJHEKH4YWZ|B00YXO5UXG|     555176890|Turtle Beach - Ea...|     Video Games|          5|            3|          4|   Y|                N|Wonderful for dic...|I am not a gaming...| 2015-08-24|\n",
            "|         US|   51070985| R73CGNRBSWLLM|B00XO041RQ|     238654494|PDP AG7 True Wire...|     Video Games|          5|            0|          0|   Y|                N|Great wireless he...|My son is really ...| 2015-08-24|\n",
            "|         US|   12442591| RYIG0BYEZP7WM|B00XO041RQ|     238654494|PDP AG7 True Wire...|     Video Games|          2|            1|          1|   Y|                N|NOT a good headse...|The sound is grea...| 2015-08-23|\n",
            "|         US|   46849857| RHGGJU4WY3YBL|B00YXO5UXG|     555176890|Turtle Beach - Ea...|     Video Games|          2|            0|          3|   Y|                N|Poor Sound and Ch...|Yuckadoo.<br /><b...| 2015-08-23|\n",
            "|         US|   50599697| RUV0RB5H9ENT5|B00XO041RQ|     238654494|PDP AG7 True Wire...|     Video Games|          4|            0|          0|   Y|                N|Good lighting eff...|WIRELESS<br /><br...| 2015-08-23|\n",
            "|         US|   50801117|R20AUQF3VKFU4I|B00XO041RQ|     238654494|PDP AG7 True Wire...|     Video Games|          4|            0|          0|   Y|                N|One of my Favorit...|Things I like:<br...| 2015-08-23|\n",
            "|         US|   51757433|R2KH14JAM5BNXE|B00XO041RQ|     238654494|PDP AG7 True Wire...|     Video Games|          4|            0|          0|   Y|                N|PDP AG7 True Wire...|Per my teenaged c...| 2015-08-22|\n",
            "|         US|   50599697|R20FZQEZM1277P|B00YXO5UXG|     555176890|Turtle Beach - Ea...|     Video Games|          4|            2|          4|   Y|                N|ONLY consider if ...|ONLY WORKS NATIVE...| 2015-08-22|\n",
            "|         US|   51152059| RSAY2UB0IHC0L|B00YXO5UXG|     555176890|Turtle Beach - Ea...|     Video Games|          4|            4|          6|   Y|                N|Ear Force Chat He...|Its for Chat not ...| 2015-08-22|\n",
            "|         US|   34311542| RQKQVDDOKW5MU|B00YXO5X4M|     832423177|Turtle Beach - Ea...|     Video Games|          5|            4|          5|   Y|                N| An easy five stars.|I received the Ea...| 2015-08-21|\n",
            "|         US|   25764086|R178X00VKZU4GX|B00XO041RQ|     238654494|PDP AG7 True Wire...|     Video Games|          4|            0|          1|   Y|                N|Recommended by 2 ...|First off, why no...| 2015-08-20|\n",
            "|         US|   14226158| R6K92WGKHQXG3|B00XO041RQ|     238654494|PDP AG7 True Wire...|     Video Games|          3|            0|          0|   Y|                N|Well rounded wire...|The PDP has a sur...| 2015-08-20|\n",
            "+-----------+-----------+--------------+----------+--------------+--------------------+----------------+-----------+-------------+-----------+----+-----------------+--------------------+--------------------+-----------+\n",
            "only showing top 20 rows\n",
            "\n"
          ]
        }
      ]
    },
    {
      "cell_type": "code",
      "metadata": {
        "id": "o5qu-sPf7k-d",
        "colab": {
          "base_uri": "https://localhost:8080/"
        },
        "outputId": "19d8fe16-da95-44ef-aeea-ff254fbb0f69"
      },
      "source": [
        "# Unpaid reviews\n",
        "unpaid_reviews = video_reviews.filter(video_reviews['vine']== 'N')\n",
        "unpaid_reviews.show()"
      ],
      "execution_count": 10,
      "outputs": [
        {
          "output_type": "stream",
          "name": "stdout",
          "text": [
            "+-----------+-----------+--------------+----------+--------------+--------------------+----------------+-----------+-------------+-----------+----+-----------------+--------------------+--------------------+-----------+\n",
            "|marketplace|customer_id|     review_id|product_id|product_parent|       product_title|product_category|star_rating|helpful_votes|total_votes|vine|verified_purchase|     review_headline|         review_body|review_date|\n",
            "+-----------+-----------+--------------+----------+--------------+--------------------+----------------+-----------+-------------+-----------+----+-----------------+--------------------+--------------------+-----------+\n",
            "|         US|   12039526| RTIS3L2M1F5SM|B001CXYMFS|     737716809|Thrustmaster T-Fl...|     Video Games|          5|            0|          0|   N|                Y|an amazing joysti...|Used this for Eli...| 2015-08-31|\n",
            "|         US|    9636577| R1ZV7R40OLHKD|B00M920ND6|     569686175|Tonsee 6 buttons ...|     Video Games|          5|            0|          0|   N|                Y|Definitely a sile...|Loved it,  I didn...| 2015-08-31|\n",
            "|         US|    2331478|R3BH071QLH8QMC|B0029CSOD2|      98937668|Hidden Mysteries:...|     Video Games|          1|            0|          1|   N|                Y|            One Star|poor quality work...| 2015-08-31|\n",
            "|         US|   52495923|R127K9NTSXA2YH|B00GOOSV98|      23143350|GelTabz Performan...|     Video Games|          3|            0|          0|   N|                Y|good, but could b...|nice, but tend to...| 2015-08-31|\n",
            "|         US|   14533949|R32ZWUXDJPW27Q|B00Y074JOM|     821342511|Zero Suit Samus a...|     Video Games|          4|            0|          0|   N|                Y|   Great but flawed.|Great amiibo, gre...| 2015-08-31|\n",
            "|         US|    2377552|R3AQQ4YUKJWBA6|B002UBI6W6|     328764615|Psyclone Recharge...|     Video Games|          1|            0|          0|   N|                Y|            One Star|The remote consta...| 2015-08-31|\n",
            "|         US|   17521011|R2F0POU5K6F73F|B008XHCLFO|      24234603|Protection for yo...|     Video Games|          5|            0|          0|   N|                Y|              A Must|I have a 2012-201...| 2015-08-31|\n",
            "|         US|   19676307|R3VNR804HYSMR6|B00BRA9R6A|     682267517|   Nerf 3DS XL Armor|     Video Games|          5|            0|          0|   N|                Y|          Five Stars|Perfect, kids lov...| 2015-08-31|\n",
            "|         US|     224068| R3GZTM72WA2QH|B009EPWJLA|     435241890|One Piece: Pirate...|     Video Games|          5|            0|          0|   N|                Y|          Five Stars|            Excelent| 2015-08-31|\n",
            "|         US|   48467989| RNQOY62705W1K|B0000AV7GB|     256572651|Playstation 2 Dan...|     Video Games|          4|            0|          0|   N|                Y|          Four Stars|Slippery but expe...| 2015-08-31|\n",
            "|         US|     106569|R1VTIA3JTYBY02|B00008KTNN|     384411423|Metal Arms: Glitc...|     Video Games|          5|            0|          0|   N|                N|          Five Stars|Love the game. Se...| 2015-08-31|\n",
            "|         US|   48269642|R29DOU8791QZL8|B000A3IA0Y|     472622859|72 Pin Connector ...|     Video Games|          1|            0|          0|   N|                Y| Game will get stuck|Does not fit prop...| 2015-08-31|\n",
            "|         US|   52738710|R15DUT1VIJ9RJZ|B0053BQN34|     577628462|uDraw Gametablet ...|     Video Games|          2|            0|          0|   N|                Y|We have tried it ...|This was way too ...| 2015-08-31|\n",
            "|         US|   10556786|R3IMF2MQ3OU9ZM|B002I0HIMI|     988218515|NBA 2K12(Covers M...|     Video Games|          4|            0|          0|   N|                Y|          Four Stars|Works great good ...| 2015-08-31|\n",
            "|         US|    2963837|R23H79DHOZTYAU|B0081EH12M|     770100932|New Trigger Grips...|     Video Games|          1|            1|          1|   N|                Y|Now i have to buy...|It did not fit th...| 2015-08-31|\n",
            "|         US|   23092109| RIV24EQAIXA4O|B005FMLZQQ|      24647669|Xbox 360 Media Re...|     Video Games|          5|            0|          0|   N|                Y|          Five Stars|perfect lightweig...| 2015-08-31|\n",
            "|         US|   23091728|R3UCNGYDVN24YB|B002BSA388|      33706205|Super Mario Galaxy 2|     Video Games|          5|            0|          0|   N|                Y|          Five Stars|               great| 2015-08-31|\n",
            "|         US|   10712640| RUL4H4XTTN2DY|B00BUSLSAC|     829667834|Nintendo 3DS XL -...|     Video Games|          5|            0|          0|   N|                Y|          Five Stars|Works beautifully...| 2015-08-31|\n",
            "|         US|   17455376|R20JF7Z4DHTNX5|B00KWF38AW|     110680188|Captain Toad:  Tr...|     Video Games|          5|            0|          0|   N|                Y|          Five Stars|Kids loved the ga...| 2015-08-31|\n",
            "|         US|   14754850|R2T1AJ5MFI2260|B00BRQJYA8|     616463426|Lego Batman 2: DC...|     Video Games|          4|            0|          0|   N|                Y|          Four Stars|           Goodngame| 2015-08-31|\n",
            "+-----------+-----------+--------------+----------+--------------+--------------------+----------------+-----------+-------------+-----------+----+-----------------+--------------------+--------------------+-----------+\n",
            "only showing top 20 rows\n",
            "\n"
          ]
        }
      ]
    },
    {
      "cell_type": "markdown",
      "metadata": {
        "id": "u17ssTQS4xHa"
      },
      "source": [
        "# Determine the percentage of five-star reviews among vine reviews"
      ]
    },
    {
      "cell_type": "code",
      "metadata": {
        "id": "HSSA2Z1-40QL",
        "colab": {
          "base_uri": "https://localhost:8080/"
        },
        "outputId": "901bcb98-87d4-4fef-f978-4faff65435d9"
      },
      "source": [
        "paid_five_star_number = paid_reviews[paid_reviews['star_rating']== 5].count()\n",
        "paid_number = paid_reviews.count()\n",
        "percentage_five_star_vine = float(paid_five_star_number) / float(paid_number)\n",
        "\n",
        "\n",
        "print(f'Number of paid reviews {paid_number}')\n",
        "print(f'Number of paid five star reviews {paid_five_star_number}')\n",
        "print(f'Percantage of paid reviews that are five stars {percentage_five_star_vine * 100}%')"
      ],
      "execution_count": 12,
      "outputs": [
        {
          "output_type": "stream",
          "name": "stdout",
          "text": [
            "Number of paid reviews 4291\n",
            "Number of paid five star reviews 1607\n",
            "Percantage of paid reviews that are five stars 37.45047774411559%\n"
          ]
        }
      ]
    },
    {
      "cell_type": "markdown",
      "metadata": {
        "id": "3L6C5S-K42bm"
      },
      "source": [
        "# Determine the percentage of five-star reviews among non-Vine reviews"
      ]
    },
    {
      "cell_type": "code",
      "metadata": {
        "id": "93A0BkCt49Vw",
        "colab": {
          "base_uri": "https://localhost:8080/"
        },
        "outputId": "3d615ad0-3bd7-4e9c-a934-40bf648ed7b5"
      },
      "source": [
        "unpaid_five_star_number = unpaid_reviews[unpaid_reviews['star_rating']== 5].count()\n",
        "unpaid_number = unpaid_reviews.count()\n",
        "percentage_five_star_non_vine = float(unpaid_five_star_number) / float(unpaid_number)\n",
        "\n",
        "\n",
        "\n",
        "print(f'Number of unpaid reviews {unpaid_number}')\n",
        "print(f'Number of unpaid five star reviews {unpaid_five_star_number}')\n",
        "print(f'Percantage of paid reviews that are five stars {percentage_five_star_non_vine * 100}%')"
      ],
      "execution_count": 13,
      "outputs": [
        {
          "output_type": "stream",
          "name": "stdout",
          "text": [
            "Number of unpaid reviews 1781706\n",
            "Number of unpaid five star reviews 1025317\n",
            "Percantage of paid reviews that are five stars 57.54692412777417%\n"
          ]
        }
      ]
    }
  ]
}